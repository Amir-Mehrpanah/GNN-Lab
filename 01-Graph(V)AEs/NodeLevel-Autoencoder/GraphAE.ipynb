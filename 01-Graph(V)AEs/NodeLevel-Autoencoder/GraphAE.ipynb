{
  "nbformat": 4,
  "nbformat_minor": 0,
  "metadata": {
    "colab": {
      "name": "Graph-VAE.ipynb",
      "provenance": [],
      "collapsed_sections": [],
      "mount_file_id": "1hMzlMYq_Aral63igC6R_jrZhGRKMAWxx",
      "authorship_tag": "ABX9TyPu93BkCx3SjovpZjZhAWdT"
    },
    "kernelspec": {
      "name": "python3",
      "display_name": "Python 3"
    },
    "accelerator": "GPU"
  },
  "cells": [
    {
      "cell_type": "code",
      "metadata": {
        "id": "0sz7YiGzscdr"
      },
      "source": [
        "!python -c \"import torch; print(torch.__version__)\"\n",
        "!pip install --no-index torch-scatter -f https://pytorch-geometric.com/whl/torch-1.8.0+cu101.html\n",
        "!pip install --no-index torch-sparse -f https://pytorch-geometric.com/whl/torch-1.8.0+cu101.html\n",
        "!pip install --no-index torch-cluster -f https://pytorch-geometric.com/whl/torch-1.8.0+cu101.html\n",
        "!pip install --no-index torch-spline-conv -f https://pytorch-geometric.com/whl/torch-1.8.0+cu101.html\n",
        "!pip install torch-geometric\n",
        "!pip install gpytorch"
      ],
      "execution_count": null,
      "outputs": []
    },
    {
      "cell_type": "code",
      "metadata": {
        "id": "GvruULwOsBfd",
        "cellView": "form"
      },
      "source": [
        "#@title imports\n",
        "import networkx as nx\n",
        "import torch\n",
        "import numpy as np\n",
        "import pandas as pd\n",
        "from tqdm import tqdm\n",
        "import matplotlib.pyplot as plt\n",
        "from torch_geometric.datasets import Planetoid\n",
        "from torch_geometric.datasets import TUDataset\n",
        "from torch_geometric.data import DataLoader\n",
        "from torch_geometric.utils import to_dense_adj\n",
        "from torch_geometric.utils import add_self_loops\n",
        "from torch_geometric.utils.convert import to_networkx\n",
        "import torch.nn.functional as F\n",
        "from torch_geometric.nn import GCNConv\n",
        "from torch.nn import Linear\n",
        "from gpytorch.kernels import LinearKernel"
      ],
      "execution_count": 2,
      "outputs": []
    },
    {
      "cell_type": "markdown",
      "metadata": {
        "id": "pwtPdojtPGDA"
      },
      "source": [
        "# Load Data"
      ]
    },
    {
      "cell_type": "code",
      "metadata": {
        "id": "uxquBW35PJKU",
        "cellView": "form"
      },
      "source": [
        "#@title Select Dataset\n",
        "name = \"AIDS\" #@param [\"ENZYMES\",\"aspirin\",\"AIDS\"]\n",
        "\n",
        "dataset = TUDataset('./data',name,use_node_attr=True)\n",
        "loader = DataLoader(dataset, batch_size=32, shuffle=True)"
      ],
      "execution_count": 125,
      "outputs": []
    },
    {
      "cell_type": "code",
      "metadata": {
        "colab": {
          "base_uri": "https://localhost:8080/",
          "height": 354
        },
        "id": "UfSr2NXQe3Fo",
        "cellView": "form",
        "outputId": "e254f819-0324-4f37-90f5-d4ef0289e47f"
      },
      "source": [
        "#@title Visualize\n",
        "idx =  25#@param {type:\"number\"}\n",
        "x_shape = dataset[idx].x.size()[1]\n",
        "print(x_shape)\n",
        "g = to_networkx(dataset[idx],to_undirected=True)\n",
        "color = torch.tensor(range(x_shape),dtype=torch.float)\n",
        "c = torch.matmul(dataset[idx].x,color)\n",
        "nx.draw(g,node_color=c)\n",
        "plt.plot()"
      ],
      "execution_count": 126,
      "outputs": [
        {
          "output_type": "stream",
          "text": [
            "42\n"
          ],
          "name": "stdout"
        },
        {
          "output_type": "execute_result",
          "data": {
            "text/plain": [
              "[]"
            ]
          },
          "metadata": {
            "tags": []
          },
          "execution_count": 126
        },
        {
          "output_type": "display_data",
          "data": {
            "image/png": "[encoded data removed]",
            "text/plain": [
              "<Figure size 432x288 with 1 Axes>"
            ]
          },
          "metadata": {
            "tags": []
          }
        }
      ]
    },
    {
      "cell_type": "code",
      "metadata": {
        "id": "iq2A6VJkXsAb"
      },
      "source": [
        "mean = torch.mean(dataset.data.x,dim=0)\n",
        "var = torch.var(dataset.data.x,dim=0)\n",
        "dataset.data.x = (dataset.data.x-mean)/var"
      ],
      "execution_count": 127,
      "outputs": []
    },
    {
      "cell_type": "markdown",
      "metadata": {
        "id": "AcLEUX0dOmFa"
      },
      "source": [
        "# Node Level Autoencoder"
      ]
    },
    {
      "cell_type": "code",
      "metadata": {
        "id": "s2qXwRzgOldT"
      },
      "source": [
        "class BaseEcoder(torch.nn.Module):\n",
        "    def __init__(self, hidden_channels):\n",
        "        super(BaseEcoder, self).__init__()\n",
        "        self.conv1 = GCNConv(dataset.num_features, hidden_channels)\n",
        "        self.conv2 = GCNConv(hidden_channels, 16)\n",
        "\n",
        "    def forward(self, x, edge_index):\n",
        "        x = self.conv1(x, edge_index)\n",
        "        x = x.relu()\n",
        "        x = F.dropout(x, p=0.3, training=self.training)\n",
        "        x = self.conv2(x, edge_index)\n",
        "        return x\n",
        "\n",
        "class BaseDecoder(torch.nn.Module):\n",
        "    def __init__(self,variacnce):\n",
        "        super(BaseDecoder, self).__init__()\n",
        "        self.lkernelop = LinearKernel()\n",
        "        self.lkernelop.variance = variacnce\n",
        "\n",
        "    def forward(self, embedding, batch):\n",
        "        graphs = batch.to_data_list()\n",
        "        num_nodes = [graph.num_nodes for graph in graphs]\n",
        "        dense_adj = to_dense_adj(batch.edge_index,batch.batch)\n",
        "        graphwise_node_embedding = torch.split(embedding,num_nodes)\n",
        "        pred_probs = [] \n",
        "        true_probs = []\n",
        "        for idx,node_embedding in enumerate(graphwise_node_embedding):\n",
        "            indices = torch.triu_indices(num_nodes[idx],\n",
        "                                         num_nodes[idx], 1)\n",
        "            kernel = self.lkernelop(node_embedding).evaluate()\n",
        "            pred_probs.append(torch.sigmoid(kernel[indices[0],indices[1]])) \n",
        "            true_probs.append(dense_adj[idx][indices[0],indices[1]])\n",
        "        return torch.cat(pred_probs), torch.cat(true_probs)\n",
        "\n",
        "class BaseAutoencoder(torch.nn.Module):\n",
        "    def __init__(self, hidden_channels):\n",
        "        super(BaseAutoencoder, self).__init__()\n",
        "        self.encoder = BaseEcoder(hidden_channels)\n",
        "        self.decoder = BaseDecoder(1)\n",
        "\n",
        "    def forward(self,batch):\n",
        "        latent_space = self.encoder(batch.x,batch.edge_index)\n",
        "        return self.decoder(latent_space,batch)\n",
        "   \n",
        "node_level_gae = BaseAutoencoder(18)"
      ],
      "execution_count": 128,
      "outputs": []
    },
    {
      "cell_type": "code",
      "metadata": {
        "id": "2pilyKimm_Mt"
      },
      "source": [
        "# training loop\n",
        "num_epochs = 200\n",
        "optimizer = torch.optim.Adam(node_level_gae.parameters(), lr=1e-4)\n",
        "epoch_loss=[]\n",
        "node_level_gae.train()\n",
        "for epoch in range(num_epochs):\n",
        "    running_loss=[]\n",
        "    for batch in loader:\n",
        "        optimizer.zero_grad()\n",
        "        pred_probs,true_probs = node_level_gae(batch)\n",
        "        loss = F.binary_cross_entropy(pred_probs, true_probs)\n",
        "        running_loss.append(loss.detach())\n",
        "        loss.backward()\n",
        "        optimizer.step()\n",
        "    epoch_loss.append(np.mean(running_loss))\n",
        "    print(f'\\repoch[{epoch}]-loss[{epoch_loss[-1]}]')"
      ],
      "execution_count": null,
      "outputs": []
    },
    {
      "cell_type": "code",
      "metadata": {
        "id": "YbGnj66upykH",
        "colab": {
          "base_uri": "https://localhost:8080/",
          "height": 282
        },
        "outputId": "405e2dda-ff64-462e-8630-c540c0de42c2"
      },
      "source": [
        "single_loader = DataLoader(dataset, batch_size=1, shuffle=True)\n",
        "temp = next(iter(single_loader))\n",
        "pred_probs,true_probs = node_level_gae(temp)\n",
        "graphsize = len(pred_probs)\n",
        "plt.bar(range(graphsize),(true_probs-pred_probs).detach())"
      ],
      "execution_count": 133,
      "outputs": [
        {
          "output_type": "execute_result",
          "data": {
            "text/plain": [
              "<BarContainer object of 66 artists>"
            ]
          },
          "metadata": {
            "tags": []
          },
          "execution_count": 133
        },
        {
          "output_type": "display_data",
          "data": {
            "image/png": "[encoded data removed]",
            "text/plain": [
              "<Figure size 432x288 with 1 Axes>"
            ]
          },
          "metadata": {
            "tags": [],
            "needs_background": "light"
          }
        }
      ]
    },
    {
      "cell_type": "markdown",
      "metadata": {
        "id": "2cK6_Oljdi8K"
      },
      "source": [
        "The optimal strategy for the model is to map all nodes to the center (Zero) in the latent space hence $\\sigma(0)=0.5$. But we expect the KL term in the variational loss to improve for that."
      ]
    }
  ]
}